{
 "cells": [
  {
   "cell_type": "code",
   "execution_count": 90,
   "metadata": {},
   "outputs": [],
   "source": [
    "import numpy as np\n",
    "import pandas as pd\n",
    "import scipy.io as si\n",
    "import utils as us\n",
    "import Cluster_Ensembles as ce\n",
    "\n",
    "import warnings\n",
    "warnings.filterwarnings(\"ignore\")\n",
    "from sklearn.preprocessing import LabelBinarizer\n",
    "from coclust.clustering.spherical_kmeans import SphericalKmeans\n",
    "from sklearn.metrics.cluster import normalized_mutual_info_score as nmi\n",
    "from coclust.coclustering import CoclustMod,CoclustSpecMod, CoclustInfo\n",
    "from coclust.clustering.spherical_kmeans import SphericalKmeans\n",
    "from coclust.visualization import (plot_reorganized_matrix,\n",
    "                                  plot_cluster_top_terms,\n",
    "                                  plot_max_modularities)"
   ]
  },
  {
   "cell_type": "code",
   "execution_count": 2,
   "metadata": {},
   "outputs": [],
   "source": [
    "db_names = ['tr31', 'tr41', 're0', 're1' ]\n",
    "data = us.load_data(db_names,dir_path='../cluto')"
   ]
  },
  {
   "cell_type": "markdown",
   "metadata": {},
   "source": [
    "### Table des donnees"
   ]
  },
  {
   "cell_type": "code",
   "execution_count": 3,
   "metadata": {},
   "outputs": [
    {
     "data": {
      "text/html": [
       "<div>\n",
       "<style scoped>\n",
       "    .dataframe tbody tr th:only-of-type {\n",
       "        vertical-align: middle;\n",
       "    }\n",
       "\n",
       "    .dataframe tbody tr th {\n",
       "        vertical-align: top;\n",
       "    }\n",
       "\n",
       "    .dataframe thead th {\n",
       "        text-align: right;\n",
       "    }\n",
       "</style>\n",
       "<table border=\"1\" class=\"dataframe\">\n",
       "  <thead>\n",
       "    <tr style=\"text-align: right;\">\n",
       "      <th></th>\n",
       "      <th>dataset</th>\n",
       "      <th># document</th>\n",
       "      <th># mots</th>\n",
       "      <th># class</th>\n",
       "      <th>sparsité</th>\n",
       "      <th>pt class/ gr class</th>\n",
       "    </tr>\n",
       "  </thead>\n",
       "  <tbody>\n",
       "    <tr>\n",
       "      <th>0</th>\n",
       "      <td>tr31</td>\n",
       "      <td>927</td>\n",
       "      <td>10128</td>\n",
       "      <td>7</td>\n",
       "      <td>0.973</td>\n",
       "      <td>0.006</td>\n",
       "    </tr>\n",
       "    <tr>\n",
       "      <th>1</th>\n",
       "      <td>tr41</td>\n",
       "      <td>878</td>\n",
       "      <td>7454</td>\n",
       "      <td>10</td>\n",
       "      <td>0.974</td>\n",
       "      <td>0.037</td>\n",
       "    </tr>\n",
       "    <tr>\n",
       "      <th>2</th>\n",
       "      <td>re0</td>\n",
       "      <td>1504</td>\n",
       "      <td>2886</td>\n",
       "      <td>13</td>\n",
       "      <td>0.982</td>\n",
       "      <td>0.018</td>\n",
       "    </tr>\n",
       "    <tr>\n",
       "      <th>3</th>\n",
       "      <td>re1</td>\n",
       "      <td>1657</td>\n",
       "      <td>3758</td>\n",
       "      <td>25</td>\n",
       "      <td>0.986</td>\n",
       "      <td>0.027</td>\n",
       "    </tr>\n",
       "  </tbody>\n",
       "</table>\n",
       "</div>"
      ],
      "text/plain": [
       "  dataset  # document  # mots  # class  sparsité  pt class/ gr class\n",
       "0    tr31         927   10128        7     0.973               0.006\n",
       "1    tr41         878    7454       10     0.974               0.037\n",
       "2     re0        1504    2886       13     0.982               0.018\n",
       "3     re1        1657    3758       25     0.986               0.027"
      ]
     },
     "execution_count": 3,
     "metadata": {},
     "output_type": "execute_result"
    }
   ],
   "source": [
    "data_table = us.create_data_table(data)\n",
    "data_table"
   ]
  },
  {
   "cell_type": "code",
   "execution_count": 132,
   "metadata": {},
   "outputs": [],
   "source": [
    "def coc_best_partitions(data,n_row,n_col,n=5, runs=20):\n",
    "    \n",
    "    partitions = []\n",
    "    \n",
    "    for i in range(runs):\n",
    "        coc = CoclustInfo(n_row_clusters=n_row, n_col_clusters=n_col)\n",
    "        coc.fit(data)\n",
    "        partitions.append(coc)\n",
    "        \n",
    "    best_index = [ part.criterion for part in partitions]\n",
    "\n",
    "    ind = np.array(best_index).argsort()[:n]\n",
    "    best_part = np.take(partitions, ind)\n",
    "    \n",
    "    row_lab = np.array([item.row_labels_ for item in best_part])\n",
    "    \n",
    "    return best_part, row_lab\n",
    "\n",
    "\n",
    "def sk_best_partitions(data,k,n=5,runs=20):\n",
    "    \n",
    "    partitions = []\n",
    "    \n",
    "    for i in range(runs):\n",
    "        sk = SphericalKmeans(k)\n",
    "        sk.fit(data)\n",
    "        partitions.append(sk)\n",
    "        \n",
    "    best_index = [ part.criterion for part in partitions]\n",
    "\n",
    "    ind = np.array(best_index).argsort()[-n:]\n",
    "    best_part = np.take(partitions, ind)\n",
    "    \n",
    "    row_lab = np.array([item.labels_ for item in best_part])\n",
    "    \n",
    "    return best_part, row_lab"
   ]
  },
  {
   "cell_type": "markdown",
   "metadata": {},
   "source": [
    "### 1- CoclustInfo best partions"
   ]
  },
  {
   "cell_type": "code",
   "execution_count": 133,
   "metadata": {},
   "outputs": [],
   "source": [
    "# Top 8 partitons pour tr31 \n",
    "cocs_tr31, tr31_part = coc_best_partitions(data['tr31'][0],7,7,n=5,runs=20)"
   ]
  },
  {
   "cell_type": "code",
   "execution_count": 134,
   "metadata": {},
   "outputs": [],
   "source": [
    "# top 8 partions pour tr41\n",
    "cocs_tr41, tr41_part = coc_best_partitions(data['tr41'][0],10,10,n=5,runs=20)"
   ]
  },
  {
   "cell_type": "code",
   "execution_count": 135,
   "metadata": {},
   "outputs": [],
   "source": [
    "# top 8 partions pour re0\n",
    "cocs_re0, re0_part = coc_best_partitions(data['re0'][0],13,13,n=5,runs=20)"
   ]
  },
  {
   "cell_type": "code",
   "execution_count": 136,
   "metadata": {},
   "outputs": [],
   "source": [
    "# top 8 partions pour re1\n",
    "cocs_re1, re1_part = coc_best_partitions(data['re1'][0],25,25,n=5,runs=20)"
   ]
  },
  {
   "cell_type": "markdown",
   "metadata": {},
   "source": [
    "### 2- Cluster Ensembles avec CSPA, HGPA et MCLA"
   ]
  },
  {
   "cell_type": "code",
   "execution_count": 158,
   "metadata": {},
   "outputs": [
    {
     "data": {
      "text/plain": [
       "array([[ True,  True, False, False],\n",
       "       [ True,  True, False, False],\n",
       "       [False, False,  True, False],\n",
       "       [False, False, False,  True]])"
      ]
     },
     "execution_count": 158,
     "metadata": {},
     "output_type": "execute_result"
    }
   ],
   "source": [
    "b = np.array([1,1,3,4])\n",
    "(b == b[:,np.newaxis]) * 1"
   ]
  },
  {
   "cell_type": "markdown",
   "metadata": {},
   "source": [
    "### 3- Matrix de co-association"
   ]
  },
  {
   "cell_type": "code",
   "execution_count": 150,
   "metadata": {},
   "outputs": [],
   "source": [
    "def co_association(label):\n",
    "    lb = np.max(label) + 1\n",
    "    n = len(label) + 1\n",
    "    I = np.eye(n,lb)\n",
    "    return I[label,:] \n",
    "\n",
    "def total_association(labels):\n",
    "    \n",
    "    total = None\n",
    "    \n",
    "    for label in labels:\n",
    "        if total is None:\n",
    "            total = co_association(label)\n",
    "        else:\n",
    "            total = total + co_association(label)\n",
    "            \n",
    "    return total"
   ]
  },
  {
   "cell_type": "code",
   "execution_count": 153,
   "metadata": {},
   "outputs": [
    {
     "data": {
      "text/plain": [
       "array([[1., 1., 0., ..., 0., 1., 1.],\n",
       "       [0., 0., 1., ..., 2., 1., 1.],\n",
       "       [1., 2., 1., ..., 0., 0., 1.],\n",
       "       ...,\n",
       "       [1., 0., 1., ..., 2., 1., 0.],\n",
       "       [2., 2., 0., ..., 0., 1., 0.],\n",
       "       [1., 0., 1., ..., 0., 2., 0.]])"
      ]
     },
     "execution_count": 153,
     "metadata": {},
     "output_type": "execute_result"
    }
   ],
   "source": [
    "tr31_tot_ass = total_association(tr31_part)\n",
    "tr31_tot_ass"
   ]
  },
  {
   "cell_type": "markdown",
   "metadata": {},
   "source": [
    "### 4- Ajout du Spherical Kmeans "
   ]
  },
  {
   "cell_type": "code",
   "execution_count": 147,
   "metadata": {},
   "outputs": [],
   "source": [
    "# Top 8 partitons pour tr31\n",
    "sk_tr31, tr31_part = sk_best_partitions(data['tr31'][0],7,n=5,runs=20)"
   ]
  },
  {
   "cell_type": "code",
   "execution_count": 159,
   "metadata": {},
   "outputs": [
    {
     "data": {
      "text/plain": [
       "(5, 927)"
      ]
     },
     "execution_count": 159,
     "metadata": {},
     "output_type": "execute_result"
    }
   ],
   "source": [
    "tr31_part.shape"
   ]
  },
  {
   "cell_type": "code",
   "execution_count": 146,
   "metadata": {},
   "outputs": [],
   "source": [
    "# top 8 partions pour tr41\n",
    "sk_tr41, tr41_part = sk_best_partitions(data['tr41'][0],10,n=5,runs=20)"
   ]
  },
  {
   "cell_type": "code",
   "execution_count": 145,
   "metadata": {},
   "outputs": [],
   "source": [
    "# top 8 partions pour re0\n",
    "sk_re0, re0_part = sk_best_partitions(data['re0'][0],13,n=5,runs=20)"
   ]
  },
  {
   "cell_type": "code",
   "execution_count": 144,
   "metadata": {},
   "outputs": [],
   "source": [
    "# top 8 partions pour re1\n",
    "sk_re1, re1_part = sk_best_partitions(data['re1'][0],25,n=5,runs=20)"
   ]
  }
 ],
 "metadata": {
  "kernelspec": {
   "display_name": "Python 3",
   "language": "python",
   "name": "python3"
  },
  "language_info": {
   "codemirror_mode": {
    "name": "ipython",
    "version": 3
   },
   "file_extension": ".py",
   "mimetype": "text/x-python",
   "name": "python",
   "nbconvert_exporter": "python",
   "pygments_lexer": "ipython3",
   "version": "3.7.5"
  }
 },
 "nbformat": 4,
 "nbformat_minor": 4
}
