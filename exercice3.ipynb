{
 "cells": [
  {
   "cell_type": "code",
   "execution_count": 55,
   "metadata": {},
   "outputs": [],
   "source": [
    "import numpy as np\n",
    "import pandas as pd\n",
    "import matplotlib.pyplot as plt\n",
    "import scipy.io as si\n",
    "import utils as us\n",
    "from Cluster_Ensembles import CSPA, HGPA, MCLA\n",
    "import matplotlib.pyplot as plt\n",
    "from sklearn.metrics.cluster import normalized_mutual_info_score as NMI\n",
    "from sklearn.metrics.cluster import adjusted_rand_score as ARI\n",
    "from cluster_ensembles_sample import cluster_ensembles\n",
    "import joblib\n",
    "import warnings\n",
    "import random\n",
    "warnings.filterwarnings(\"ignore\")\n",
    "from sklearn.preprocessing import LabelBinarizer\n",
    "from coclust.clustering.spherical_kmeans import SphericalKmeans\n",
    "from coclust.coclustering import CoclustMod,CoclustSpecMod, CoclustInfo\n",
    "from coclust.clustering.spherical_kmeans import SphericalKmeans\n",
    "from coclust.visualization import (plot_reorganized_matrix,\n",
    "                                  plot_cluster_top_terms,\n",
    "                                  plot_max_modularities)"
   ]
  },
  {
   "cell_type": "code",
   "execution_count": 2,
   "metadata": {},
   "outputs": [],
   "source": [
    "db_names = ['re0', 'fbis', 'wap' ]\n",
    "data = us.load_data(db_names,dir_path='../cluto')"
   ]
  },
  {
   "cell_type": "markdown",
   "metadata": {},
   "source": [
    "## Table des donnees"
   ]
  },
  {
   "cell_type": "code",
   "execution_count": 3,
   "metadata": {},
   "outputs": [
    {
     "data": {
      "text/html": [
       "<div>\n",
       "<style scoped>\n",
       "    .dataframe tbody tr th:only-of-type {\n",
       "        vertical-align: middle;\n",
       "    }\n",
       "\n",
       "    .dataframe tbody tr th {\n",
       "        vertical-align: top;\n",
       "    }\n",
       "\n",
       "    .dataframe thead th {\n",
       "        text-align: right;\n",
       "    }\n",
       "</style>\n",
       "<table border=\"1\" class=\"dataframe\">\n",
       "  <thead>\n",
       "    <tr style=\"text-align: right;\">\n",
       "      <th></th>\n",
       "      <th>dataset</th>\n",
       "      <th># document</th>\n",
       "      <th># mots</th>\n",
       "      <th># class</th>\n",
       "      <th>sparsité</th>\n",
       "      <th>pt class/ gr class</th>\n",
       "    </tr>\n",
       "  </thead>\n",
       "  <tbody>\n",
       "    <tr>\n",
       "      <th>0</th>\n",
       "      <td>re0</td>\n",
       "      <td>1504</td>\n",
       "      <td>2886</td>\n",
       "      <td>13</td>\n",
       "      <td>0.982</td>\n",
       "      <td>0.018</td>\n",
       "    </tr>\n",
       "    <tr>\n",
       "      <th>1</th>\n",
       "      <td>fbis</td>\n",
       "      <td>2463</td>\n",
       "      <td>2000</td>\n",
       "      <td>17</td>\n",
       "      <td>0.920</td>\n",
       "      <td>0.075</td>\n",
       "    </tr>\n",
       "    <tr>\n",
       "      <th>2</th>\n",
       "      <td>wap</td>\n",
       "      <td>1560</td>\n",
       "      <td>8460</td>\n",
       "      <td>20</td>\n",
       "      <td>0.983</td>\n",
       "      <td>0.015</td>\n",
       "    </tr>\n",
       "  </tbody>\n",
       "</table>\n",
       "</div>"
      ],
      "text/plain": [
       "  dataset  # document  # mots  # class  sparsité  pt class/ gr class\n",
       "0     re0        1504    2886       13     0.982               0.018\n",
       "1    fbis        2463    2000       17     0.920               0.075\n",
       "2     wap        1560    8460       20     0.983               0.015"
      ]
     },
     "execution_count": 3,
     "metadata": {},
     "output_type": "execute_result"
    }
   ],
   "source": [
    "data_table = us.create_data_table(data)\n",
    "data_table"
   ]
  },
  {
   "cell_type": "code",
   "execution_count": 106,
   "metadata": {},
   "outputs": [],
   "source": [
    "def find_asso_nmi_ari(algo, pred_lab, reel_lab,):\n",
    "\n",
    "    association = us.total_association(pred_lab)\n",
    "    algo.fit(association)\n",
    "    asso_result = [NMI(reel_lab,algo.row_labels_), ARI(reel_lab, algo.row_labels_)]\n",
    "    \n",
    "    return asso_result\n",
    "\n",
    "def consensus_nmi_ari(pred_labels, n,methods, reel_lab):\n",
    "    ans_ = []\n",
    "    scores = []\n",
    "    \n",
    "    for method in methods:\n",
    "        print(method)\n",
    "        score1,ans1 = cluster_ensembles(pred_labels,False,n,method)\n",
    "        ans_.append(ans1)\n",
    "        scores.append(score1)\n",
    "    ind = np.array(scores).argsort()[-1:]\n",
    "    ind = ind[0]\n",
    "    \n",
    "    consen_result = [NMI(reel_lab,ans_[ind]), ARI(reel_lab, ans_[ind])]\n",
    "    return consen_result\n",
    "    \n",
    "def concat(lab1,lab2):\n",
    "    lab1 = list(lab1)\n",
    "    lab2 = list(lab2)\n",
    "    for lab in lab2:\n",
    "        lab1.append(lab)\n",
    "    return np.array(lab1)\n",
    "\n",
    "\n",
    "def sk_best_partitions(data,k,n=5,runs=15):\n",
    "    \n",
    "    partitions = []\n",
    "    \n",
    "    for i in range(runs):\n",
    "        sk = SphericalKmeans(k)\n",
    "        sk.fit(data)\n",
    "        partitions.append(sk)\n",
    "        \n",
    "    best_index = [ part.criterion for part in partitions]\n",
    "\n",
    "    ind = np.array(best_index).argsort()[-n:]\n",
    "    best_part = np.take(partitions, ind)\n",
    "    \n",
    "    row_lab = np.array([item.labels_ for item in best_part])\n",
    "    \n",
    "    return row_lab\n",
    "\n",
    "def find_partitions(data, algo,minimized,method=\"CI\", n=5,  runs=15):\n",
    "\n",
    "    results = []\n",
    "    labs = []\n",
    "    for _ in range(runs):\n",
    "        copy_algo = algo\n",
    "        copy_algo.fit(data)\n",
    "        labs.append(np.array(copy_algo.row_labels_))\n",
    "        results.append(copy_algo)\n",
    "\n",
    "    # joblib.dump(results, f'./{name}.joblib')\n",
    "\n",
    "    if method == \"CI\":\n",
    "        vals = [part.criterion for part in results]\n",
    "    elif method == \"CM\":\n",
    "        vals = [part.modularity for part in results]\n",
    "    else:\n",
    "        vals = [random.random() for _ in results]\n",
    "\n",
    "    if minimized:\n",
    "        ind = np.array(vals).argsort()[:n]\n",
    "    else:\n",
    "        ind = np.array(vals).argsort()[-n:]\n",
    "    \n",
    "    best_part = np.take(labs, ind)\n",
    "#     print([print(item.row_labels_) for item in best_part])\n",
    "#     row_labels = np.array([item.row_labels_ for item in best_part])\n",
    "    \n",
    "    return best_part, labs\n"
   ]
  },
  {
   "cell_type": "markdown",
   "metadata": {},
   "source": [
    "## Spherical Kmeans "
   ]
  },
  {
   "cell_type": "code",
   "execution_count": 7,
   "metadata": {},
   "outputs": [],
   "source": [
    "re0_sk_res =  sk_best_partitions(data['re0'][0],13)\n",
    "\n",
    "fbis_sk_res =  sk_best_partitions(data['fbis'][0],17)\n",
    "\n",
    "wap_sk_res =  sk_best_partitions(data['wap'][0],20)"
   ]
  },
  {
   "cell_type": "markdown",
   "metadata": {},
   "source": [
    "## - CoclustInfo "
   ]
  },
  {
   "cell_type": "markdown",
   "metadata": {},
   "source": [
    "#### Execution"
   ]
  },
  {
   "cell_type": "code",
   "execution_count": 9,
   "metadata": {},
   "outputs": [],
   "source": [
    "algo = CoclustInfo(n_row_clusters=13,n_col_clusters=13)\n",
    "re0_co_inf_res = us.find_partitions(data['re0'][0],algo,True)\n",
    "\n",
    "algo = CoclustInfo(n_row_clusters=17,n_col_clusters=17)\n",
    "fbis_co_inf_res = us.find_partitions(data['fbis'][0],algo,True)\n",
    "\n",
    "algo = CoclustInfo(n_row_clusters=20,n_col_clusters=20)\n",
    "wap_co_inf_res = us.find_partitions(data['wap'][0],algo,True)"
   ]
  },
  {
   "cell_type": "markdown",
   "metadata": {},
   "source": [
    "### cluster_ensemble"
   ]
  },
  {
   "cell_type": "code",
   "execution_count": 11,
   "metadata": {},
   "outputs": [],
   "source": [
    "re0_co_inf_consence = consensus_nmi_ari(re0_co_inf_res,13,[CSPA, HGPA, MCLA], data['re0'][1])\n",
    "\n",
    "fbis_co_inf_consence = consensus_nmi_ari(fbis_co_inf_res,17,[CSPA, HGPA, MCLA], data['fbis'][1])\n",
    "\n",
    "wap_co_inf_consence = consensus_nmi_ari(wap_co_inf_res,20,[CSPA, HGPA, MCLA], data['wap'][1])"
   ]
  },
  {
   "cell_type": "code",
   "execution_count": 12,
   "metadata": {},
   "outputs": [
    {
     "name": "stdout",
     "output_type": "stream",
     "text": [
      "[0.38419917666162623, 0.1585011665999189]\n",
      "[0.5252365798904505, 0.2857792419724781]\n",
      "[0.5058249532096252, 0.2548498492476764]\n"
     ]
    }
   ],
   "source": [
    "print(re0_co_inf_consence)\n",
    "print(fbis_co_inf_consence)\n",
    "print(wap_co_inf_consence)"
   ]
  },
  {
   "cell_type": "markdown",
   "metadata": {},
   "source": [
    "### Co-association"
   ]
  },
  {
   "cell_type": "code",
   "execution_count": 13,
   "metadata": {},
   "outputs": [],
   "source": [
    "algo = CoclustInfo(n_row_clusters=13, n_col_clusters=13)\n",
    "re0_co_inf_associ = find_asso_nmi_ari(algo, re0_co_inf_res, data['re0'][1])\n",
    "\n",
    "algo = CoclustInfo(n_row_clusters=17, n_col_clusters=17)\n",
    "fbis_co_inf_associ = find_asso_nmi_ari(algo, fbis_co_inf_res, data['fbis'][1])\n",
    "\n",
    "algo = CoclustInfo(n_row_clusters=20, n_col_clusters=20)\n",
    "wap_co_inf_associ = find_asso_nmi_ari(algo, wap_co_inf_res, data['wap'][1])"
   ]
  },
  {
   "cell_type": "code",
   "execution_count": 14,
   "metadata": {},
   "outputs": [
    {
     "name": "stdout",
     "output_type": "stream",
     "text": [
      "[0.2825362876079906, 0.101362554821126]\n",
      "[0.4464803605986396, 0.28694291307969677]\n",
      "[0.438614555264813, 0.30153803160674014]\n"
     ]
    }
   ],
   "source": [
    "print(re0_co_inf_associ)\n",
    "print(fbis_co_inf_associ)\n",
    "print(wap_co_inf_associ)"
   ]
  },
  {
   "cell_type": "markdown",
   "metadata": {},
   "source": [
    "### cluster_ensemble with skmeans"
   ]
  },
  {
   "cell_type": "code",
   "execution_count": 16,
   "metadata": {},
   "outputs": [],
   "source": [
    "re0_co_inf_sk_consence = consensus_nmi_ari(concat(re0_co_inf_res, re0_sk_res),13,[CSPA, HGPA, MCLA], data['re0'][1])\n",
    "\n",
    "fbis_co_inf_sk_consence = consensus_nmi_ari(concat(fbis_co_inf_res, fbis_sk_res),17,[CSPA, HGPA, MCLA], data['fbis'][1])\n",
    "\n",
    "wap_co_inf_sk_consence = consensus_nmi_ari(concat(wap_co_inf_res, wap_sk_res),20,[CSPA, HGPA, MCLA], data['wap'][1])"
   ]
  },
  {
   "cell_type": "code",
   "execution_count": 17,
   "metadata": {},
   "outputs": [
    {
     "name": "stdout",
     "output_type": "stream",
     "text": [
      "[0.3905195031398707, 0.1769395556597831]\n",
      "[0.5586682511049379, 0.3567314491954577]\n",
      "[0.5291947031206292, 0.3075255009891753]\n"
     ]
    }
   ],
   "source": [
    "print(re0_co_inf_sk_consence,)\n",
    "print(fbis_co_inf_sk_consence)\n",
    "print(wap_co_inf_sk_consence)"
   ]
  },
  {
   "cell_type": "markdown",
   "metadata": {},
   "source": [
    "### Co-association with skmeans"
   ]
  },
  {
   "cell_type": "code",
   "execution_count": 18,
   "metadata": {},
   "outputs": [],
   "source": [
    "algo = CoclustInfo(n_row_clusters=13, n_col_clusters=13)\n",
    "re0_co_inf_sk_associ = find_asso_nmi_ari(algo, concat(re0_co_inf_res, re0_sk_res), data['re0'][1])\n",
    "\n",
    "algo = CoclustInfo(n_row_clusters=17, n_col_clusters=17)\n",
    "fbis_co_inf_sk_associ = find_asso_nmi_ari(algo, concat(fbis_co_inf_res, fbis_sk_res), data['fbis'][1])\n",
    "\n",
    "algo = CoclustInfo(n_row_clusters=20, n_col_clusters=20)\n",
    "wap_co_inf_sk_associ = find_asso_nmi_ari(algo, concat(wap_co_inf_res, wap_sk_res), data['wap'][1])"
   ]
  },
  {
   "cell_type": "code",
   "execution_count": 19,
   "metadata": {},
   "outputs": [
    {
     "name": "stdout",
     "output_type": "stream",
     "text": [
      "[0.3514501666571611, 0.16617447586769862]\n",
      "[0.5225593667153169, 0.3493741940816951]\n",
      "[0.5225593667153169, 0.3493741940816951]\n"
     ]
    }
   ],
   "source": [
    "print(re0_co_inf_sk_associ)\n",
    "print(fbis_co_inf_sk_associ)\n",
    "print(fbis_co_inf_sk_associ)"
   ]
  },
  {
   "cell_type": "markdown",
   "metadata": {},
   "source": [
    "## - CoclustInfo X2"
   ]
  },
  {
   "cell_type": "markdown",
   "metadata": {},
   "source": [
    "### Execution"
   ]
  },
  {
   "cell_type": "code",
   "execution_count": 21,
   "metadata": {},
   "outputs": [],
   "source": [
    "algo = CoclustInfo(n_row_clusters=13,n_col_clusters=26)\n",
    "re0_co_inf_x2_res = us.find_partitions(data['re0'][0],algo,True)\n",
    "\n",
    "algo = CoclustInfo(n_row_clusters=17,n_col_clusters=34)\n",
    "fbis_co_inf_x2_res = us.find_partitions(data['fbis'][0],algo,True)\n",
    "\n",
    "algo = CoclustInfo(n_row_clusters=20,n_col_clusters=40)\n",
    "wap_co_inf_x2_res = us.find_partitions(data['wap'][0],algo,True)"
   ]
  },
  {
   "cell_type": "markdown",
   "metadata": {},
   "source": [
    "### cluster_ensembles"
   ]
  },
  {
   "cell_type": "code",
   "execution_count": 30,
   "metadata": {},
   "outputs": [],
   "source": [
    "re0_co_inf_x2_consence = consensus_nmi_ari(re0_co_inf_x2_res,13,[CSPA, HGPA, MCLA], data['re0'][1])\n",
    "\n",
    "fbis_co_inf_x2_consence = consensus_nmi_ari(fbis_co_inf_x2_res,17,[CSPA, HGPA, MCLA], data['fbis'][1])\n",
    "\n",
    "wap_co_inf_x2_consence = consensus_nmi_ari(wap_co_inf_x2_res,20,[CSPA, HGPA, MCLA], data['wap'][1])"
   ]
  },
  {
   "cell_type": "code",
   "execution_count": 26,
   "metadata": {},
   "outputs": [
    {
     "name": "stdout",
     "output_type": "stream",
     "text": [
      "[0.3671074885737563, 0.1367605741917185]\n",
      "[0.5287370388110759, 0.28363299023126504]\n",
      "[0.5363067613304963, 0.3170760903383303]\n"
     ]
    }
   ],
   "source": [
    "print(re0_co_inf_x2_consence)\n",
    "print(fbis_co_inf_x2_consence)\n",
    "print(wap_co_inf_x2_consence)"
   ]
  },
  {
   "cell_type": "markdown",
   "metadata": {},
   "source": [
    "### Co-association"
   ]
  },
  {
   "cell_type": "code",
   "execution_count": 27,
   "metadata": {},
   "outputs": [],
   "source": [
    "algo = CoclustInfo(n_row_clusters=13, n_col_clusters=13)\n",
    "re0_co_inf_x2_associ = find_asso_nmi_ari(algo, re0_co_inf_x2_res, data['re0'][1])\n",
    "\n",
    "algo = CoclustInfo(n_row_clusters=17, n_col_clusters=17)\n",
    "fbis_co_inf_x2_associ = find_asso_nmi_ari(algo, fbis_co_inf_x2_res, data['fbis'][1])\n",
    "\n",
    "algo = CoclustInfo(n_row_clusters=20, n_col_clusters=20)\n",
    "wap_co_inf_x2_associ = find_asso_nmi_ari(algo, wap_co_inf_x2_res, data['wap'][1])"
   ]
  },
  {
   "cell_type": "code",
   "execution_count": 28,
   "metadata": {},
   "outputs": [
    {
     "name": "stdout",
     "output_type": "stream",
     "text": [
      "[0.2472362755306274, 0.07158724777916535]\n",
      "[0.40983879475324175, 0.22858569099713077]\n",
      "[0.40701987775266146, 0.1820503816160997]\n"
     ]
    }
   ],
   "source": [
    "print(re0_co_inf_x2_associ)\n",
    "print(fbis_co_inf_x2_associ)\n",
    "print(wap_co_inf_x2_associ)"
   ]
  },
  {
   "cell_type": "markdown",
   "metadata": {},
   "source": [
    "### cluster_ensemble with skmeans"
   ]
  },
  {
   "cell_type": "code",
   "execution_count": 31,
   "metadata": {},
   "outputs": [],
   "source": [
    "re0_co_inf_x2_sk_consence = consensus_nmi_ari(concat(re0_co_inf_x2_res, re0_sk_res),13,[CSPA, HGPA, MCLA], data['re0'][1])\n",
    "\n",
    "fbis_co_inf_x2_sk_consence = consensus_nmi_ari(concat(fbis_co_inf_x2_res, fbis_sk_res),17,[CSPA, HGPA, MCLA], data['fbis'][1])\n",
    "\n",
    "wap_co_inf_x2_sk_consence = consensus_nmi_ari(concat(wap_co_inf_x2_res, wap_sk_res),20,[CSPA, HGPA, MCLA], data['wap'][1])"
   ]
  },
  {
   "cell_type": "code",
   "execution_count": 32,
   "metadata": {},
   "outputs": [
    {
     "name": "stdout",
     "output_type": "stream",
     "text": [
      "[0.38024069758628903, 0.1635487814829469]\n",
      "[0.5785767007411985, 0.3476564456797294]\n",
      "[0.545351893464675, 0.3129515557460158]\n"
     ]
    }
   ],
   "source": [
    "print(re0_co_inf_x2_sk_consence)\n",
    "print(fbis_co_inf_x2_sk_consence)\n",
    "print(wap_co_inf_x2_sk_consence)"
   ]
  },
  {
   "cell_type": "markdown",
   "metadata": {},
   "source": [
    "### Co-association with skmeans"
   ]
  },
  {
   "cell_type": "code",
   "execution_count": 33,
   "metadata": {},
   "outputs": [],
   "source": [
    "algo = CoclustInfo(n_row_clusters=13, n_col_clusters=13)\n",
    "re0_co_inf_x2_sk_associ = find_asso_nmi_ari(algo, concat(re0_co_inf_x2_res, re0_sk_res), data['re0'][1])\n",
    "\n",
    "algo = CoclustInfo(n_row_clusters=17, n_col_clusters=17)\n",
    "fbis_co_inf_x2_sk_associ = find_asso_nmi_ari(algo, concat(fbis_co_inf_x2_res, fbis_sk_res), data['fbis'][1])\n",
    "\n",
    "algo = CoclustInfo(n_row_clusters=20, n_col_clusters=20)\n",
    "wap_co_inf_x2_sk_associ = find_asso_nmi_ari(algo, concat(wap_co_inf_x2_res, wap_sk_res), data['wap'][1])"
   ]
  },
  {
   "cell_type": "code",
   "execution_count": 34,
   "metadata": {},
   "outputs": [
    {
     "name": "stdout",
     "output_type": "stream",
     "text": [
      "[0.29766762130079516, 0.10986274529370281]\n",
      "[0.5160387068761558, 0.32813941959599074]\n",
      "[0.564232146623185, 0.41445656384587076]\n"
     ]
    }
   ],
   "source": [
    "print(re0_co_inf_x2_sk_associ)\n",
    "print(fbis_co_inf_x2_sk_associ)\n",
    "print(wap_co_inf_x2_sk_associ)"
   ]
  },
  {
   "cell_type": "markdown",
   "metadata": {},
   "source": [
    "## - CoclustInfo x3"
   ]
  },
  {
   "cell_type": "markdown",
   "metadata": {},
   "source": [
    "### Execution"
   ]
  },
  {
   "cell_type": "code",
   "execution_count": 23,
   "metadata": {},
   "outputs": [],
   "source": [
    "algo = CoclustInfo(n_row_clusters=13,n_col_clusters=39)\n",
    "re0_co_inf_x3_res = us.find_partitions(data['re0'][0],algo,True)\n",
    "\n",
    "algo = CoclustInfo(n_row_clusters=17,n_col_clusters=51)\n",
    "fbis_co_inf_x3_res = us.find_partitions(data['fbis'][0],algo,True)\n",
    "\n",
    "algo = CoclustInfo(n_row_clusters=20,n_col_clusters=60)\n",
    "wap_co_inf_x3_res = us.find_partitions(data['wap'][0],algo,True)"
   ]
  },
  {
   "cell_type": "markdown",
   "metadata": {},
   "source": [
    "### cluster_ensembles"
   ]
  },
  {
   "cell_type": "code",
   "execution_count": 37,
   "metadata": {},
   "outputs": [],
   "source": [
    "re0_co_inf_x3_consence = consensus_nmi_ari(re0_co_inf_x3_res,13,[CSPA, HGPA, MCLA], data['re0'][1])\n",
    "\n",
    "fbis_co_inf_x3_consence = consensus_nmi_ari(fbis_co_inf_x3_res,17,[CSPA, HGPA, MCLA], data['fbis'][1])\n",
    "\n",
    "wap_co_inf_x3_consence = consensus_nmi_ari(wap_co_inf_x3_res,20,[CSPA, HGPA, MCLA], data['wap'][1])"
   ]
  },
  {
   "cell_type": "code",
   "execution_count": 36,
   "metadata": {},
   "outputs": [
    {
     "name": "stdout",
     "output_type": "stream",
     "text": [
      "[0.3673346380882476, 0.1421527166091746]\n",
      "[0.5566156882633964, 0.30391646791044374]\n",
      "[0.5267553910273326, 0.3106584220484953]\n"
     ]
    }
   ],
   "source": [
    "print(re0_co_inf_x3_consence)\n",
    "print(fbis_co_inf_x3_consence)\n",
    "print(wap_co_inf_x3_consence)"
   ]
  },
  {
   "cell_type": "markdown",
   "metadata": {},
   "source": [
    "### Co-association"
   ]
  },
  {
   "cell_type": "code",
   "execution_count": 38,
   "metadata": {},
   "outputs": [],
   "source": [
    "algo = CoclustInfo(n_row_clusters=13, n_col_clusters=13)\n",
    "re0_co_inf_x3_associ = find_asso_nmi_ari(algo, re0_co_inf_x3_res, data['re0'][1])\n",
    "\n",
    "algo = CoclustInfo(n_row_clusters=17, n_col_clusters=17)\n",
    "fbis_co_inf_x3_associ = find_asso_nmi_ari(algo, fbis_co_inf_x3_res, data['fbis'][1])\n",
    "\n",
    "algo = CoclustInfo(n_row_clusters=20, n_col_clusters=20)\n",
    "wap_co_inf_x3_associ = find_asso_nmi_ari(algo, wap_co_inf_x3_res, data['wap'][1])"
   ]
  },
  {
   "cell_type": "code",
   "execution_count": 39,
   "metadata": {},
   "outputs": [
    {
     "name": "stdout",
     "output_type": "stream",
     "text": [
      "[0.2627135513574062, 0.12572374728014477]\n",
      "[0.4480313791166249, 0.2608175411082891]\n",
      "[0.3974522309217705, 0.28654955834084866]\n"
     ]
    }
   ],
   "source": [
    "print(re0_co_inf_x3_associ)\n",
    "print(fbis_co_inf_x3_associ)\n",
    "print(wap_co_inf_x3_associ)"
   ]
  },
  {
   "cell_type": "markdown",
   "metadata": {},
   "source": [
    "### cluster_ensembles with skmeans"
   ]
  },
  {
   "cell_type": "code",
   "execution_count": 41,
   "metadata": {},
   "outputs": [],
   "source": [
    "re0_co_inf_x3_sk_consence = consensus_nmi_ari(concat(re0_co_inf_x3_res, re0_sk_res),13,[CSPA, HGPA, MCLA], data['re0'][1])\n",
    "\n",
    "fbis_co_inf_x3_sk_consence = consensus_nmi_ari(concat(fbis_co_inf_x3_res, fbis_sk_res),17,[CSPA, HGPA, MCLA], data['fbis'][1])\n",
    "\n",
    "wap_co_inf_x3_sk_consence = consensus_nmi_ari(concat(wap_co_inf_x3_res, wap_sk_res),20,[CSPA, HGPA, MCLA], data['wap'][1])"
   ]
  },
  {
   "cell_type": "code",
   "execution_count": 42,
   "metadata": {},
   "outputs": [
    {
     "name": "stdout",
     "output_type": "stream",
     "text": [
      "[0.39423485450890816, 0.1849156745069482]\n",
      "[0.5892672939254497, 0.40915543054519043]\n",
      "[0.5422570723749323, 0.3351236612717501]\n"
     ]
    }
   ],
   "source": [
    "print(re0_co_inf_x3_sk_consence)\n",
    "print(fbis_co_inf_x3_sk_consence)\n",
    "print(wap_co_inf_x3_sk_consence)"
   ]
  },
  {
   "cell_type": "markdown",
   "metadata": {},
   "source": [
    "### Co-association with skmeans"
   ]
  },
  {
   "cell_type": "code",
   "execution_count": 43,
   "metadata": {},
   "outputs": [],
   "source": [
    "algo = CoclustInfo(n_row_clusters=13, n_col_clusters=13)\n",
    "re0_co_inf_x3_sk_associ = find_asso_nmi_ari(algo, concat(re0_co_inf_x3_res, re0_sk_res), data['re0'][1])\n",
    "\n",
    "algo = CoclustInfo(n_row_clusters=17, n_col_clusters=17)\n",
    "fbis_co_inf_x3_sk_associ = find_asso_nmi_ari(algo, concat(fbis_co_inf_x3_res, fbis_sk_res), data['fbis'][1])\n",
    "\n",
    "algo = CoclustInfo(n_row_clusters=20, n_col_clusters=20)\n",
    "wap_co_inf_x3_sk_associ = find_asso_nmi_ari(algo, concat(wap_co_inf_x3_res, wap_sk_res), data['wap'][1])"
   ]
  },
  {
   "cell_type": "code",
   "execution_count": 44,
   "metadata": {},
   "outputs": [
    {
     "name": "stdout",
     "output_type": "stream",
     "text": [
      "[0.38247278243742877, 0.19659917015390846]\n",
      "[0.5554193440762294, 0.39821971500959275]\n",
      "[0.5571967659546535, 0.4132695701912138]\n"
     ]
    }
   ],
   "source": [
    "print(re0_co_inf_x3_sk_associ)\n",
    "print(fbis_co_inf_x3_sk_associ)\n",
    "print(wap_co_inf_x3_sk_associ)"
   ]
  },
  {
   "cell_type": "markdown",
   "metadata": {},
   "source": [
    "## CoclustMod"
   ]
  },
  {
   "cell_type": "markdown",
   "metadata": {},
   "source": [
    "### Execution"
   ]
  },
  {
   "cell_type": "code",
   "execution_count": 114,
   "metadata": {},
   "outputs": [],
   "source": [
    "algo = CoclustMod(n_clusters=13)\n",
    "re0_co_mod_res, temp1 = find_partitions(data['re0'][0],algo,False, method=\"CM\")\n",
    "\n",
    "algo = CoclustMod(n_clusters=17)\n",
    "fbis_co_mod_res, temp2 = find_partitions(data['fbis'][0],algo,False, method=\"CM\")\n",
    "\n",
    "algo = CoclustMod(n_clusters=20)\n",
    "wap_co_mod_res, temp3 = find_partitions(data['wap'][0],algo,False, method=\"CM\")"
   ]
  },
  {
   "cell_type": "code",
   "execution_count": 149,
   "metadata": {},
   "outputs": [],
   "source": [
    "re0_co_mod_res = np.array([temp1[0], temp1[0]])"
   ]
  },
  {
   "cell_type": "code",
   "execution_count": 150,
   "metadata": {},
   "outputs": [],
   "source": [
    "fbis_co_mod_res = np.array([temp2[0], temp2[1],temp2[5]])"
   ]
  },
  {
   "cell_type": "code",
   "execution_count": 151,
   "metadata": {},
   "outputs": [],
   "source": [
    "wap_co_mod_res = np.array([temp3[0], temp3[9]])"
   ]
  },
  {
   "cell_type": "markdown",
   "metadata": {},
   "source": [
    "### cluster_ensembles"
   ]
  },
  {
   "cell_type": "code",
   "execution_count": 153,
   "metadata": {},
   "outputs": [],
   "source": [
    "re0_co_mod_consence = consensus_nmi_ari(re0_co_mod_res,13,[CSPA, HGPA, MCLA], data['re0'][1])\n",
    "\n",
    "fbis_co_mod_consence = consensus_nmi_ari(fbis_co_mod_res,17,[CSPA, HGPA, MCLA], data['fbis'][1])\n",
    "\n",
    "wap_co_mod_consence = consensus_nmi_ari(wap_co_mod_res,20,[CSPA, HGPA, MCLA], data['wap'][1])"
   ]
  },
  {
   "cell_type": "code",
   "execution_count": 154,
   "metadata": {},
   "outputs": [
    {
     "name": "stdout",
     "output_type": "stream",
     "text": [
      "[0.3453663681631249, 0.18219986375764172]\n",
      "[0.40390568444414676, 0.23961386151011263]\n",
      "[0.4625641717271864, 0.33606224676979757]\n"
     ]
    }
   ],
   "source": [
    "print(re0_co_mod_consence)\n",
    "print(fbis_co_mod_consence)\n",
    "print(wap_co_mod_consence)"
   ]
  },
  {
   "cell_type": "markdown",
   "metadata": {},
   "source": [
    "### Co-association"
   ]
  },
  {
   "cell_type": "code",
   "execution_count": 155,
   "metadata": {},
   "outputs": [],
   "source": [
    "algo = CoclustMod(n_clusters=13)\n",
    "re0_co_mod_associ = find_asso_nmi_ari(algo, re0_co_mod_res, data['re0'][1])\n",
    "\n",
    "algo = CoclustMod(n_clusters=17)\n",
    "fbis_co_mod_associ = find_asso_nmi_ari(algo, fbis_co_mod_res, data['fbis'][1])\n",
    "\n",
    "algo = CoclustMod(n_clusters=20)\n",
    "wap_co_mod_associ = find_asso_nmi_ari(algo, wap_co_mod_res, data['wap'][1])"
   ]
  },
  {
   "cell_type": "code",
   "execution_count": 156,
   "metadata": {},
   "outputs": [
    {
     "name": "stdout",
     "output_type": "stream",
     "text": [
      "[0.29846765955816285, 0.12006697686844824]\n",
      "[0.46462479228766673, 0.3160282343495924]\n",
      "[0.46464365121575346, 0.396146187764163]\n"
     ]
    }
   ],
   "source": [
    "print(re0_co_mod_associ)\n",
    "print(fbis_co_mod_associ)\n",
    "print(wap_co_mod_associ)"
   ]
  },
  {
   "cell_type": "markdown",
   "metadata": {},
   "source": [
    "### cluster_ensembles with skmeans"
   ]
  },
  {
   "cell_type": "code",
   "execution_count": 160,
   "metadata": {},
   "outputs": [],
   "source": [
    "re0_co_mod_sk_consence = consensus_nmi_ari(concat(re0_co_mod_res, re0_sk_res),13,[CSPA, HGPA, MCLA], data['re0'][1])\n",
    "\n",
    "fbis_co_mod_sk_consence = consensus_nmi_ari(concat(fbis_co_mod_res, fbis_sk_res),17,[CSPA, HGPA, MCLA], data['fbis'][1])\n",
    "\n",
    "wap_co_mod_sk_consence = consensus_nmi_ari(concat(wap_co_mod_res, wap_sk_res),20,[CSPA, HGPA, MCLA], data['wap'][1])"
   ]
  },
  {
   "cell_type": "code",
   "execution_count": 161,
   "metadata": {},
   "outputs": [
    {
     "name": "stdout",
     "output_type": "stream",
     "text": [
      "[0.41088261299344186, 0.2155053878763645]\n",
      "[0.5766892506980553, 0.3961320776540335]\n",
      "[0.5622439196501479, 0.3399706824186719]\n"
     ]
    }
   ],
   "source": [
    "print(re0_co_mod_sk_consence)\n",
    "print(fbis_co_mod_sk_consence)\n",
    "print(wap_co_mod_sk_consence)"
   ]
  },
  {
   "cell_type": "markdown",
   "metadata": {},
   "source": [
    "### Co-association with skmeans"
   ]
  },
  {
   "cell_type": "code",
   "execution_count": 162,
   "metadata": {},
   "outputs": [],
   "source": [
    "algo = CoclustMod(n_clusters=13)\n",
    "re0_co_mod_sk_associ = find_asso_nmi_ari(algo, concat(re0_co_mod_res, re0_sk_res), data['re0'][1])\n",
    "\n",
    "algo = CoclustMod(n_clusters=17)\n",
    "fbis_co_mod_sk_associ = find_asso_nmi_ari(algo, concat(fbis_co_mod_res, fbis_sk_res), data['fbis'][1])\n",
    "\n",
    "algo = CoclustMod(n_clusters=20)\n",
    "wap_co_mod_sk_associ = find_asso_nmi_ari(algo, concat(wap_co_mod_res, wap_sk_res), data['wap'][1])"
   ]
  },
  {
   "cell_type": "code",
   "execution_count": 163,
   "metadata": {},
   "outputs": [
    {
     "name": "stdout",
     "output_type": "stream",
     "text": [
      "[0.3599625696423616, 0.18042618260308751]\n",
      "[0.5595482728761252, 0.3635455975759135]\n",
      "[0.580169694302202, 0.469368419005595]\n"
     ]
    }
   ],
   "source": [
    "print(re0_co_mod_sk_associ)\n",
    "print(fbis_co_mod_sk_associ)\n",
    "print(wap_co_mod_sk_associ)"
   ]
  },
  {
   "cell_type": "markdown",
   "metadata": {},
   "source": [
    "## ColcustSpecMod"
   ]
  },
  {
   "cell_type": "markdown",
   "metadata": {},
   "source": [
    "### Execution"
   ]
  },
  {
   "cell_type": "code",
   "execution_count": 59,
   "metadata": {},
   "outputs": [],
   "source": [
    "algo = CoclustSpecMod(n_clusters=13)\n",
    "re0_sp_mod_res = find_partitions(data['re0'][0],algo,False, method=\"CSM\")\n",
    "\n",
    "algo = CoclustSpecMod(n_clusters=17)\n",
    "fbis_sp_mod_res = us.find_partitions(data['fbis'][0],algo,False, method=\"CSM\")\n",
    "\n",
    "algo = CoclustSpecMod(n_clusters=20)\n",
    "wap_sp_mod_res = us.find_partitions(data['wap'][0],algo,False, method=\"CSM\")"
   ]
  },
  {
   "cell_type": "markdown",
   "metadata": {},
   "source": [
    "### cluster_ensembles"
   ]
  },
  {
   "cell_type": "code",
   "execution_count": 83,
   "metadata": {},
   "outputs": [],
   "source": [
    "re0_sp_mod_consence = consensus_nmi_ari(re0_sp_mod_res,13,[CSPA, HGPA, MCLA], data['re0'][1])\n",
    "\n",
    "fbis_sp_mod_consence = consensus_nmi_ari(fbis_sp_mod_res,17,[CSPA, HGPA, MCLA], data['fbis'][1])\n",
    "\n",
    "wap_sp_mod_consence = consensus_nmi_ari(wap_sp_mod_res,20,[CSPA, HGPA, MCLA], data['wap'][1])"
   ]
  },
  {
   "cell_type": "code",
   "execution_count": 82,
   "metadata": {},
   "outputs": [
    {
     "name": "stdout",
     "output_type": "stream",
     "text": [
      "[0.29382874196187836, 0.07792914485718451]\n",
      "[0.4598144077140665, 0.30076436995212374]\n",
      "[0.443629773046578, 0.22246731883287224]\n"
     ]
    }
   ],
   "source": [
    "print(re0_sp_mod_consence)\n",
    "print(fbis_sp_mod_consence)\n",
    "print(wap_sp_mod_consence)"
   ]
  },
  {
   "cell_type": "markdown",
   "metadata": {},
   "source": [
    "### Co-association"
   ]
  },
  {
   "cell_type": "code",
   "execution_count": 84,
   "metadata": {},
   "outputs": [],
   "source": [
    "algo = CoclustSpecMod(n_clusters=13)\n",
    "re0_sp_mod_associ = find_asso_nmi_ari(algo, re0_sp_mod_res, data['re0'][1])\n",
    "\n",
    "algo = CoclustSpecMod(n_clusters=17)\n",
    "fbis_sp_mod_associ = find_asso_nmi_ari(algo, fbis_sp_mod_res, data['fbis'][1])\n",
    "\n",
    "algo = CoclustSpecMod(n_clusters=20)\n",
    "wap_sp_mod_associ = find_asso_nmi_ari(algo, wap_sp_mod_res, data['wap'][1])"
   ]
  },
  {
   "cell_type": "code",
   "execution_count": 85,
   "metadata": {},
   "outputs": [
    {
     "name": "stdout",
     "output_type": "stream",
     "text": [
      "[0.36289981257565995, 0.1491835890495418]\n",
      "[0.4914220305070455, 0.30026164019673707]\n",
      "[0.538163865163268, 0.3511565648120293]\n"
     ]
    }
   ],
   "source": [
    "print(re0_sp_mod_associ)\n",
    "print(fbis_sp_mod_associ)\n",
    "print(wap_sp_mod_associ)"
   ]
  },
  {
   "cell_type": "markdown",
   "metadata": {},
   "source": [
    "### cluster_ensembles with skmeans"
   ]
  },
  {
   "cell_type": "code",
   "execution_count": 88,
   "metadata": {},
   "outputs": [],
   "source": [
    "re0_sp_mod_sk_consence = consensus_nmi_ari(concat(re0_sp_mod_res, re0_sk_res),13,[CSPA, HGPA, MCLA], data['re0'][1])\n",
    "\n",
    "fbis_sp_mod_sk_consence = consensus_nmi_ari(concat(fbis_sp_mod_res, fbis_sk_res),17,[CSPA, HGPA, MCLA], data['fbis'][1])\n",
    "\n",
    "wap_sp_mod_sk_consence = consensus_nmi_ari(concat(wap_sp_mod_res, wap_sk_res),20,[CSPA, HGPA, MCLA], data['wap'][1])"
   ]
  },
  {
   "cell_type": "code",
   "execution_count": 87,
   "metadata": {},
   "outputs": [
    {
     "name": "stdout",
     "output_type": "stream",
     "text": [
      "[0.3896234857062725, 0.13404689886869184]\n",
      "[0.5208266681802665, 0.37187631215588385]\n",
      "[0.5170090866201392, 0.3076978930202227]\n"
     ]
    }
   ],
   "source": [
    "print(re0_sp_mod_sk_consence)\n",
    "print(fbis_sp_mod_sk_consence)\n",
    "print(wap_sp_mod_sk_consence)"
   ]
  },
  {
   "cell_type": "markdown",
   "metadata": {},
   "source": [
    "### Co-association with skmeans"
   ]
  },
  {
   "cell_type": "code",
   "execution_count": 89,
   "metadata": {},
   "outputs": [],
   "source": [
    "algo = CoclustMod(n_clusters=13)\n",
    "re0_sp_mod_sk_associ = find_asso_nmi_ari(algo, concat(re0_sp_mod_res, re0_sk_res), data['re0'][1])\n",
    "\n",
    "algo = CoclustMod(n_clusters=17)\n",
    "fbis_sp_mod_sk_associ = find_asso_nmi_ari(algo, concat(fbis_sp_mod_res, fbis_sk_res), data['fbis'][1])\n",
    "\n",
    "algo = CoclustMod(n_clusters=20)\n",
    "wap_sp_mod_sk_associ = find_asso_nmi_ari(algo, concat(wap_sp_mod_res, wap_sk_res), data['wap'][1])"
   ]
  },
  {
   "cell_type": "code",
   "execution_count": 90,
   "metadata": {},
   "outputs": [
    {
     "name": "stdout",
     "output_type": "stream",
     "text": [
      "[0.37621839113860084, 0.19257636878177808]\n",
      "[0.49861610949602864, 0.356261894539492]\n",
      "[0.5011010664685605, 0.3930926777459356]\n"
     ]
    }
   ],
   "source": [
    "print(re0_sp_mod_sk_associ)\n",
    "print(fbis_sp_mod_sk_associ)\n",
    "print(wap_sp_mod_sk_associ)"
   ]
  },
  {
   "cell_type": "markdown",
   "metadata": {},
   "source": [
    "## Cluster_ensembles Of All"
   ]
  },
  {
   "cell_type": "code",
   "execution_count": 164,
   "metadata": {},
   "outputs": [],
   "source": [
    "re0_conbine = concat( concat(re0_sp_mod_res, re0_sk_res), concat(re0_co_inf_res, re0_co_mod_res) )\n",
    "fbis_conbine = concat( concat(fbis_sp_mod_res, fbis_sk_res), concat(fbis_co_inf_res, fbis_co_mod_res) )\n",
    "wap_conbine = concat( concat(wap_sp_mod_res, wap_sk_res), concat(wap_co_inf_res, wap_co_mod_res) )"
   ]
  },
  {
   "cell_type": "code",
   "execution_count": 166,
   "metadata": {},
   "outputs": [],
   "source": [
    "\n",
    "re0_all_consence = consensus_nmi_ari(re0_conbine,13,[CSPA, HGPA, MCLA], data['re0'][1])\n",
    "\n",
    "fbis_all_consence = consensus_nmi_ari(fbis_conbine,17,[CSPA, HGPA, MCLA], data['fbis'][1])\n",
    "\n",
    "wap_all_consence = consensus_nmi_ari(wap_conbine,20,[CSPA, HGPA, MCLA], data['wap'][1])"
   ]
  },
  {
   "cell_type": "code",
   "execution_count": 167,
   "metadata": {},
   "outputs": [
    {
     "name": "stdout",
     "output_type": "stream",
     "text": [
      "[0.3839216617807247, 0.17274257248885375]\n",
      "[0.5005182484133436, 0.31078737336343776]\n",
      "[0.5452026181225641, 0.3573431674719953]\n"
     ]
    }
   ],
   "source": [
    "print(re0_all_consence)\n",
    "print(fbis_all_consence)\n",
    "print(wap_all_consence)"
   ]
  },
  {
   "cell_type": "code",
   "execution_count": null,
   "metadata": {},
   "outputs": [],
   "source": []
  }
 ],
 "metadata": {
  "kernelspec": {
   "display_name": "Python 3",
   "language": "python",
   "name": "python3"
  },
  "language_info": {
   "codemirror_mode": {
    "name": "ipython",
    "version": 3
   },
   "file_extension": ".py",
   "mimetype": "text/x-python",
   "name": "python",
   "nbconvert_exporter": "python",
   "pygments_lexer": "ipython3",
   "version": "3.7.5"
  }
 },
 "nbformat": 4,
 "nbformat_minor": 4
}
